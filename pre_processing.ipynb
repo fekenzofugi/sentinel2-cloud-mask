{
  "nbformat": 4,
  "nbformat_minor": 0,
  "metadata": {
    "colab": {
      "provenance": [],
      "collapsed_sections": [
        "hoEQCmYm0rev",
        "4KB7PW-fFzCB",
        "RFNaqRUBHFlY",
        "ZcCGWiW0L1mZ",
        "ydQWSCwLpAzr",
        "nH8DwJgFW-eM",
        "Zvcpx51VXcyt"
      ]
    },
    "kernelspec": {
      "name": "python3",
      "display_name": "Python 3"
    },
    "language_info": {
      "name": "python"
    }
  },
  "cells": [
    {
      "cell_type": "markdown",
      "source": [
        "# Utils"
      ],
      "metadata": {
        "id": "_pOm2nnQwRfM"
      }
    },
    {
      "cell_type": "markdown",
      "source": [
        "\n",
        "### Sentinel-2 Image properties"
      ],
      "metadata": {
        "id": "hoEQCmYm0rev"
      }
    },
    {
      "cell_type": "markdown",
      "source": [
        "Property Name | Type | Description |\n",
        "--- | --- | --- |\n",
        "AOT_RETRIEVAL_ACCURACY |DOUBLE \t| Accuracy of Aerosol Optical thickness model\n",
        "CLOUDY_PIXEL_PERCENTAGE |DOUBLE | Granule-specific cloudy pixel percentage taken from the original metadata\n",
        "CLOUD_COVERAGE_ASSESSMENT | DOUBLE \t| Cloudy pixel percentage for the whole archive that contains this granule. Taken from the original metadata\n",
        "CLOUDY_SHADOW_PERCENTAGE | DOUBLE | Percentage of pixels classified as cloud shadow\n",
        "DARK_FEATURES_PERCENTAGE | DOUBLE | Percentage of pixels classified as dark features or shadows\n",
        "DATASTRIP_ID | STRING | Unique identifier of the datastrip Product Data Item (PDI)\n",
        "DATATAKE_IDENTIFIER | STRING |Uniquely identifies a given Datatake. The ID contains the Sentinel-2 satellite, start date and time, absolute orbit number, and processing baseline.\n",
        "DATATAKE_TYPE | STRING | MSI operation mode\n",
        "DEGRADED_MSI_DATA_PERCENTAGE | DOUBLE | Percentage of degraded MSI and ancillary data\n",
        "FORMAT_CORRECTNESS | STRING | Synthesis of the On-Line Quality Control (OLQC) checks performed at granule (Product_Syntax) and datastrip (Product Syntax and DS_Consistency) levels\n",
        "GENERAL_QUALITY | STRING | Synthesis of the OLQC checks performed at the datastrip level (Relative_Orbit_Number)\n",
        "GENERATION_TIME | DOUBLE | Product generation time\n",
        "GEOMETRIC_QUALITY | STRING | Synthesis of the OLQC checks performed at the datastrip level (Attitude_Quality_Indicator)\n",
        "GRANULE_ID | STRING | Unique identifier of the granule PDI (PDI_ID)\n",
        "HIGH_PROBA_CLOUDS_PERCENTAGE | DOUBLE | Percentage of pixels classified as high probability clouds\n",
        "MEAN_INCIDENCE_AZIMUTH_ANGLE_B1 | DOUBLE | Mean value containing viewing incidence azimuth angle average for band B1 and for all detectors\n",
        "MEAN_INCIDENCE_AZIMUTH_ANGLE_B2 | DOUBLE | Mean value containing viewing incidence azimuth angle average for band B2 and for all detectors\n",
        "MEAN_INCIDENCE_AZIMUTH_ANGLE_B3 | DOUBLE | Mean value containing viewing incidence azimuth angle average for band B3 and for all detectors\n",
        "MEAN_INCIDENCE_AZIMUTH_ANGLE_B4 | DOUBLE | Mean value containing viewing incidence azimuth angle average for band B4 and for all detectors\n",
        "MEAN_INCIDENCE_AZIMUTH_ANGLE_B5 | DOUBLE | Mean value containing viewing incidence azimuth angle average for band B5 and for all detectors\n",
        "MEAN_INCIDENCE_AZIMUTH_ANGLE_B6 | DOUBLE |Mean value containing viewing incidence azimuth angle average for band B6 and for all detectors\n",
        "MEAN_INCIDENCE_AZIMUTH_ANGLE_B7 | DOUBLE | Mean value containing viewing incidence azimuth angle average for band B7 and for all detectors\n",
        "MEAN_INCIDENCE_AZIMUTH_ANGLE_B8 | DOUBLE | Mean value containing viewing incidence azimuth angle average for band B8 and for all detectors\n",
        "MEAN_INCIDENCE_AZIMUTH_ANGLE_B8A | DOUBLE | Mean value containing viewing incidence azimuth angle average for band B8a and for all detectors\n",
        "MEAN_INCIDENCE_AZIMUTH_ANGLE_B9 | DOUBLE | Mean value containing viewing incidence azimuth angle average for band B9 and for all detectors\n",
        "MEAN_INCIDENCE_AZIMUTH_ANGLE_B10 | DOUBLE | Mean value containing viewing incidence azimuth angle average for band B10 and for all detectors\n",
        "MEAN_INCIDENCE_AZIMUTH_ANGLE_B11 | DOUBLE | Mean value containing viewing incidence azimuth angle average for band B11 and for all detectors\n",
        "MEAN_INCIDENCE_AZIMUTH_ANGLE_B12 | DOUBLE | Mean value containing viewing incidence azimuth angle average for band B12 and for all detectors\n",
        "MEAN_INCIDENCE_ZENITH_ANGLE_B1 | DOUBLE | Mean value containing viewing incidence zenith angle average for band B1 and for all detectors\n",
        "MEAN_INCIDENCE_ZENITH_ANGLE_B2 | DOUBLE | Mean value containing viewing incidence zenith angle average for band B2 and for all detectors\n",
        "MEAN_INCIDENCE_ZENITH_ANGLE_B3 | DOUBLE | Mean value containing viewing incidence zenith angle average for band B3 and for all detectors\n",
        "MEAN_INCIDENCE_ZENITH_ANGLE_B4 | DOUBLE | Mean value containing viewing incidence zenith angle average for band B4 and for all detectors\n",
        "MEAN_INCIDENCE_ZENITH_ANGLE_B5 | DOUBLE | Mean value containing viewing incidence zenith angle average for band B5 and for all detectors\n",
        "MEAN_INCIDENCE_ZENITH_ANGLE_B6 | DOUBLE | Mean value containing viewing incidence zenith angle average for band B6 and for all detectors\n",
        "MEAN_INCIDENCE_ZENITH_ANGLE_B7 | DOUBLE | Mean value containing viewing incidence zenith angle average for band B7 and for all detectors\n",
        "MEAN_INCIDENCE_ZENITH_ANGLE_B8 | DOUBLE | Mean value containing viewing incidence zenith angle average for band B8 and for all detectors\n",
        "MEAN_INCIDENCE_ZENITH_ANGLE_B8A |DOUBLE |Mean value containing viewing incidence zenith angle average for band B8a and for all detectors\n",
        "MEAN_INCIDENCE_ZENITH_ANGLE_B9 | DOUBLE | Mean value containing viewing incidence zenith angle average for band B9 and for all detectors\n",
        "MEAN_INCIDENCE_ZENITH_ANGLE_B10 | DOUBLE | Mean value containing viewing incidence zenith angle average for band B10 and for all detectors\n",
        "MEAN_INCIDENCE_ZENITH_ANGLE_B11 |DOUBLE | Mean value containing viewing incidence zenith angle average for band B11 and for all detectors\n",
        "MEAN_INCIDENCE_ZENITH_ANGLE_B12 |DOUBLE | Mean value containing viewing incidence zenith angle average for band B12 and for all detectors\n",
        "MEAN_SOLAR_AZIMUTH_ANGLE | DOUBLE | Mean value containing sun azimuth angle average for all bands and detectors\n",
        "MEAN_SOLAR_ZENITH_ANGLE | DOUBLE | Mean value containing sun zenith angle average for all bands and detectors\n",
        "MEDIUM_PROBA_CLOUDS_PERCENTAGE | DOUBLE | Percentage of pixels classified as medium probability clouds\n",
        "MGRS_TILE | STRING | US-Military Grid Reference System (MGRS) tile\n",
        "NODATA_PIXEL_PERCENTAGE | DOUBLE | Percentage of No Data pixels\n",
        "NOT_VEGETATED_PERCENTAGE |DOUBLE | Percentage of pixels classified as non-vegetated\n",
        "PROCESSING_BASELINE | STRING | Configuration baseline used at the time of the product generation in terms of processor software version and major Ground Image Processing Parameters (GIPP) version\n",
        "PRODUCT_ID | STRING | The full id of the original Sentinel-2 product\n",
        "RADIATIVE_TRANSFER_ACCURACY | DOUBLE | Accuracy of radiative transfer model\n",
        "RADIOMETRIC_QUALITY | STRING | Based on the OLQC reports contained in the Datastrips/QI_DATA with RADIOMETRIC_QUALITY checklist name\n",
        "REFLECTANCE_CONVERSION_CORRECTION | DOUBLE | Earth-Sun distance correction factor\n",
        "SATURATED_DEFECTIVE_PIXEL_PERCENTAGE | DOUBLE | Percentage of saturated or defective pixels\n",
        "SENSING_ORBIT_DIRECTION | STRING | Imaging orbit direction\n",
        "SENSING_ORBIT_NUMBER | DOUBLE | Imaging orbit number\n",
        "SENSOR_QUALITY | STRING | Synthesis of the OLQC checks performed at granule (Missing_Lines, Corrupted_ISP, and Sensing_Time) and datastrip (Degraded_SAD and Datation_Model) levels\n",
        "SOLAR_IRRADIANCE_B1 | DOUBLE | Mean solar exoatmospheric irradiance for band B1\n",
        "SOLAR_IRRADIANCE_B2 | DOUBLE | Mean solar exoatmospheric irradiance for band B2\n",
        "SOLAR_IRRADIANCE_B3 | DOUBLE | Mean solar exoatmospheric irradiance for band B3\n",
        "SOLAR_IRRADIANCE_B4 | DOUBLE | Mean solar exoatmospheric irradiance for band B4\n",
        "SOLAR_IRRADIANCE_B5 | DOUBLE | Mean solar exoatmospheric irradiance for band B5\n",
        "SOLAR_IRRADIANCE_B6 | DOUBLE | Mean solar exoatmospheric irradiance for band B6\n",
        "SOLAR_IRRADIANCE_B7 | DOUBLE | Mean solar exoatmospheric irradiance for band B7\n",
        "SOLAR_IRRADIANCE_B8 | DOUBLE  | Mean solar exoatmospheric irradiance for band B8\n",
        "SOLAR_IRRADIANCE_B8A |DOUBLE | Mean solar exoatmospheric irradiance for band B8a\n",
        "SOLAR_IRRADIANCE_B9 | DOUBLE | Mean solar exoatmospheric irradiance for band B9\n",
        "SOLAR_IRRADIANCE_B10 | DOUBLE | Mean solar exoatmospheric irradiance for band B10\n",
        "SOLAR_IRRADIANCE_B11 | DOUBLE | Mean solar exoatmospheric irradiance for band B11\n",
        "SOLAR_IRRADIANCE_B12 | DOUBLE | Mean solar exoatmospheric irradiance for band B12\n",
        "SNOW_ICE_PERCENTAGE | DOUBLE | Percentage of pixels classified as snow or ice\n",
        "SPACECRAFT_NAME | STRING | Sentinel-2 spacecraft name: Sentinel-2A, Sentinel-2B\n",
        "THIN_CIRRUS_PERCENTAGE | DOUBLE | Percentage of pixels classified as thin cirrus clouds\n",
        "UNCLASSIFIED_PERCENTAGE | DOUBLE | Percentage of unclassified pixels\n",
        "VEGETATION_PERCENTAGE | DOUBLE | Percentage of pixels classified as vegetation\n",
        "WATER_PERCENTAGE | DOUBLE | Percentage of pixels classified as water\n",
        "WATER_VAPOUR_RETRIEVAL_ACCURACY | DOUBLE | Declared accuracy of the Water Vapor model"
      ],
      "metadata": {
        "id": "kY7G0qfMwXOM"
      }
    },
    {
      "cell_type": "markdown",
      "source": [
        "### Important Functions"
      ],
      "metadata": {
        "id": "0HPfRR826par"
      }
    },
    {
      "cell_type": "markdown",
      "source": [
        "`ee.Image.selfMask`: Updates an image's mask at all positions where the existing mask is not zero using the value of the image as the new mask value. The output image retains the metadata and footprint of the input image."
      ],
      "metadata": {
        "id": "EU15Xfma6uro"
      }
    },
    {
      "cell_type": "markdown",
      "source": [
        "`ee.Image.not`: Returns 0 if the input is non-zero, and 1 otherwise."
      ],
      "metadata": {
        "id": "LxpFjlJkC7SV"
      }
    },
    {
      "cell_type": "markdown",
      "source": [
        "`ee.ImageCollection.median`: Reduces an image collection by calculating the median of all values at each pixel across the stack of all matching bands. Bands are matched by name."
      ],
      "metadata": {
        "id": "SWA9YWgOvMCd"
      }
    },
    {
      "cell_type": "markdown",
      "source": [
        "### Vocabulary"
      ],
      "metadata": {
        "id": "a9DJoNjfVJzq"
      }
    },
    {
      "cell_type": "markdown",
      "source": [
        "`Compsite Image`: is an image made from the combination of a variety of pictures. Using layers, the photographs are combined to merge into a single image that appears to the viewer to be whole. There is an important difference between a collage and a composite image"
      ],
      "metadata": {
        "id": "YeZE1KvRVNQm"
      }
    },
    {
      "cell_type": "markdown",
      "source": [
        "`A coordinate reference system (CRS)`: defines how the two-dimensional, projected map in your GIS, relates to real places on the earth. The decision of which map projection and CRS to use depends on the regional extent of the area you want to work in, on the analysis you want to do, and often on the availability of data."
      ],
      "metadata": {
        "id": "3YXVHT0AVeOc"
      }
    },
    {
      "cell_type": "markdown",
      "source": [
        "# Project Setup"
      ],
      "metadata": {
        "id": "4KB7PW-fFzCB"
      }
    },
    {
      "cell_type": "code",
      "execution_count": null,
      "metadata": {
        "id": "MIt6QPf6_bDJ"
      },
      "outputs": [],
      "source": [
        "# Import libraries\n",
        "import geopandas as gpd\n",
        "import pandas as pd\n",
        "import numpy as np\n",
        "import geemap\n",
        "import ee\n",
        "import os\n",
        "\n",
        "# Authenticate and initialize Google Earth Engine API\n",
        "ee.Authenticate()\n",
        "ee.Initialize(project=\"preprocessing-423917\")"
      ]
    },
    {
      "cell_type": "markdown",
      "source": [
        "# Area of Interest (AOI)"
      ],
      "metadata": {
        "id": "ycF7lYWwiS0X"
      }
    },
    {
      "cell_type": "code",
      "source": [
        "# The AOI for sampling\n",
        "trainTest_aoi = ee.Geometry.Point(-37.40, -4.91)\n",
        "\n",
        "# The AOI for validation\n",
        "validation_aoi = ee.Geometry.Point(-37.40, -4.91)"
      ],
      "metadata": {
        "id": "U7xehxGuiVmo"
      },
      "execution_count": null,
      "outputs": []
    },
    {
      "cell_type": "markdown",
      "source": [
        "# Cloud Probability"
      ],
      "metadata": {
        "id": "1nmKebHtV5rQ"
      }
    },
    {
      "cell_type": "markdown",
      "source": [
        "## Cloud Mask and Cloud Shadow Mask -> Sentinel-2 cloud probability"
      ],
      "metadata": {
        "id": "RFNaqRUBHFlY"
      }
    },
    {
      "cell_type": "markdown",
      "source": [
        "### Define collection filter and cloud mask **parameters**"
      ],
      "metadata": {
        "id": "P-P1ohYBKquD"
      }
    },
    {
      "cell_type": "markdown",
      "source": [
        "Parameter | Type | Description |\n",
        "--- | --- | --- |\n",
        "AOI | ee.Geometry | Area of Interest |\n",
        "START_DATE | string | Image collection start date (inclusive) |\n",
        "END_DATE | string | Image collection start date (exclusive) |\n",
        "CLOUD_FILTER | integer | Maximum image cloud cover percent allowed in image collection |\n",
        "CLD_PRB_THRESH | integer | Cloud probability (%); values greater than are considered cloud |\n",
        "NIR_DRK_THRESH | float | Near-infrared reflectance; values less than are considered potential cloud shadow |\n",
        "CLD_PRJ_DIST | float | Maximum distance (km) to search for cloud shadows from cloud edges |\n",
        "BUFFER | integer | Distance (m) to dilate the edge of cloud-identified objects |"
      ],
      "metadata": {
        "id": "TqIPVRYmIjcr"
      }
    },
    {
      "cell_type": "code",
      "source": [
        "AOI = trainTest_aoi\n",
        "START_DATE = \"2023-02-01\"\n",
        "END_DATE = \"2023-04-20\"\n",
        "CLOUD_FILTER = 60\n",
        "CLD_PRB_THRESH = 50\n",
        "NIR_DRK_THRESH = 0.15\n",
        "CLD_PRJ_DIST = 1\n",
        "BUFFER = 50"
      ],
      "metadata": {
        "id": "waLJyWuYHIs4"
      },
      "execution_count": null,
      "outputs": []
    },
    {
      "cell_type": "markdown",
      "source": [
        "### Build a Sentinel-2 image collection with Sentinel-2 cloud probability\n",
        "\n",
        "\n",
        "\n"
      ],
      "metadata": {
        "id": "ZcCGWiW0L1mZ"
      }
    },
    {
      "cell_type": "markdown",
      "source": [
        "This Sentinel-2 image collection where each image has a property called `s2cloudless` whose value is the corresponding s2cloudless image. This cloudless image came from the [Sentinel-2 cloud probability collection](https://developers.google.com/earth-engine/datasets/catalog/COPERNICUS_S2_CLOUD_PROBABILITY)\n"
      ],
      "metadata": {
        "id": "KzGEm40INE3P"
      }
    },
    {
      "cell_type": "code",
      "source": [
        "S2_COLLECTION_ID = \"COPERNICUS/S2_SR_HARMONIZED\"\n",
        "S2_CM_COLLECTION_ID = \"COPERNICUS/S2_CLOUD_PROBABILITY\"\n",
        "\n",
        "def get_s2_sr_cld_col(aoi, start_date, end_date):\n",
        "    # Import and filter S2 SR.\n",
        "    s2_sr_col = (ee.ImageCollection(S2_COLLECTION_ID)\n",
        "        .filterBounds(aoi)\n",
        "        .filterDate(start_date, end_date)\n",
        "        .filter(ee.Filter.lte('CLOUDY_PIXEL_PERCENTAGE', CLOUD_FILTER)))\n",
        "\n",
        "    # Import and filter s2cloudless.\n",
        "    s2_cloudless_col = (ee.ImageCollection(S2_CM_COLLECTION_ID)\n",
        "        .filterBounds(aoi)\n",
        "        .filterDate(start_date, end_date))\n",
        "\n",
        "    # Join the filtered s2cloudless collection to the SR collection by the 'system:index' property.\n",
        "    return ee.ImageCollection(ee.Join.saveFirst('s2cloudless').apply(**{\n",
        "        'primary': s2_sr_col,\n",
        "        'secondary': s2_cloudless_col,\n",
        "        'condition': ee.Filter.equals(**{\n",
        "            'leftField': 'system:index',\n",
        "            'rightField': 'system:index'\n",
        "        })\n",
        "    }))"
      ],
      "metadata": {
        "id": "FbGTeur1Lx5z"
      },
      "execution_count": null,
      "outputs": []
    },
    {
      "cell_type": "code",
      "source": [
        "s2_sr_cld_col_eval = get_s2_sr_cld_col(AOI, START_DATE, END_DATE)"
      ],
      "metadata": {
        "id": "3YGWvxRkQIw-"
      },
      "execution_count": null,
      "outputs": []
    },
    {
      "cell_type": "markdown",
      "source": [
        "### Define Cloud Mask component functions"
      ],
      "metadata": {
        "id": "lcVge_bURBxN"
      }
    },
    {
      "cell_type": "markdown",
      "source": [
        "#### Cloud Components"
      ],
      "metadata": {
        "id": "aQUemFHXSAw7"
      }
    },
    {
      "cell_type": "markdown",
      "source": [
        "Define a function to add the s2cloudless probability layer and derived cloud mask as bands to an S2 SR image input."
      ],
      "metadata": {
        "id": "LdjpMyg3Sj4f"
      }
    },
    {
      "cell_type": "code",
      "source": [
        "def add_cloud_bands(img):\n",
        "    # Get s2cloudless image, subset the probability band.\n",
        "    cld_prb = ee.Image(img.get('s2cloudless')).select('probability')\n",
        "\n",
        "    # Condition s2cloudless by the probability threshold value.\n",
        "    is_cloud = cld_prb.gt(CLD_PRB_THRESH).rename('clouds')\n",
        "\n",
        "    # Add the cloud probability layer and cloud mask as image bands.\n",
        "    return img.addBands(ee.Image([cld_prb, is_cloud]))"
      ],
      "metadata": {
        "id": "8QHFOTJeRGzT"
      },
      "execution_count": null,
      "outputs": []
    },
    {
      "cell_type": "markdown",
      "source": [
        "#### Cloud Shadow Components"
      ],
      "metadata": {
        "id": "hfo2kepQSXg9"
      }
    },
    {
      "cell_type": "markdown",
      "source": [
        "Define a function to add dark pixels, cloud projection, and identified shadows as bands to an S2 SR image input. Note that the image input needs to be the result of the above `add_cloud_bands` function because it relies on knowing which pixels are considered cloudy `('clouds' band)`."
      ],
      "metadata": {
        "id": "QfOjkIAvSlZi"
      }
    },
    {
      "cell_type": "code",
      "source": [
        "def add_shadow_bands(img):\n",
        "    # Identify water pixels from the SCL band.\n",
        "    not_water = img.select('SCL').neq(6)\n",
        "\n",
        "    # Identify dark NIR pixels that are not water (potential cloud shadow pixels).\n",
        "    SR_BAND_SCALE = 1e4\n",
        "    dark_pixels = img.select('B8').lt(NIR_DRK_THRESH*SR_BAND_SCALE).multiply(not_water).rename('dark_pixels')\n",
        "\n",
        "    # Determine the direction to project cloud shadow from clouds (assumes UTM projection).\n",
        "    shadow_azimuth = ee.Number(90).subtract(ee.Number(img.get('MEAN_SOLAR_AZIMUTH_ANGLE')));\n",
        "\n",
        "    # Project shadows from clouds for the distance specified by the CLD_PRJ_DIST input.\n",
        "    cld_proj = (img.select('clouds').directionalDistanceTransform(shadow_azimuth, CLD_PRJ_DIST*10)\n",
        "        .reproject(**{'crs': img.select(0).projection(), 'scale': 100})\n",
        "        .select('distance')\n",
        "        .mask()\n",
        "        .rename('cloud_transform'))\n",
        "\n",
        "    # Identify the intersection of dark pixels with cloud shadow projection.\n",
        "    shadows = cld_proj.multiply(dark_pixels).rename('shadows')\n",
        "\n",
        "    # Add dark pixels, cloud projection, and identified shadows as image bands.\n",
        "    return img.addBands(ee.Image([dark_pixels, cld_proj, shadows]))"
      ],
      "metadata": {
        "id": "CovCU1z-SFJx"
      },
      "execution_count": null,
      "outputs": []
    },
    {
      "cell_type": "markdown",
      "source": [
        "#### Final cloud-shadow mask"
      ],
      "metadata": {
        "id": "8Eg2jhQDS3Sc"
      }
    },
    {
      "cell_type": "markdown",
      "source": [
        "Define a function to assemble all of the cloud and cloud shadow components and produce the final mask."
      ],
      "metadata": {
        "id": "uCaBoXlKTyXW"
      }
    },
    {
      "cell_type": "code",
      "source": [
        "def add_cld_shdw_mask(img):\n",
        "    # Add cloud component bands.\n",
        "    img_cloud = add_cloud_bands(img)\n",
        "\n",
        "    # Add cloud shadow component bands.\n",
        "    img_cloud_shadow = add_shadow_bands(img_cloud)\n",
        "\n",
        "    # Combine cloud and shadow mask, set cloud and shadow as value 1, else 0.\n",
        "    is_cld_shdw = img_cloud_shadow.select('clouds').add(img_cloud_shadow.select('shadows')).gt(0)\n",
        "\n",
        "    # Remove small cloud-shadow patches and dilate remaining pixels by BUFFER input.\n",
        "    # 20 m scale is for speed, and assumes clouds don't require 10 m precision.\n",
        "    is_cld_shdw = (is_cld_shdw.focalMin(2).focalMax(BUFFER*2/20)\n",
        "        .reproject(**{'crs': img.select([0]).projection(), 'scale': 20})\n",
        "        .rename('cloudmask'))\n",
        "\n",
        "    # Add the final cloud-shadow mask to the image.\n",
        "    return img_cloud_shadow.addBands(is_cld_shdw)"
      ],
      "metadata": {
        "id": "4YEb5xnhT7bZ"
      },
      "execution_count": null,
      "outputs": []
    },
    {
      "cell_type": "markdown",
      "source": [
        "#### Subset the cloudmask band"
      ],
      "metadata": {
        "id": "zUrZakCFoMky"
      }
    },
    {
      "cell_type": "code",
      "source": [
        "def apply_cld_shdw_mask(img):\n",
        "    # Subset the cloudmask band and invert it so clouds/shadow are 0, else 1.\n",
        "    not_cld_shdw = img.select('cloudmask').Not()\n",
        "\n",
        "    # Subset reflectance bands and update their masks, return the result.\n",
        "    return img.select('B.*').updateMask(not_cld_shdw)"
      ],
      "metadata": {
        "id": "fx09ls-DoYPL"
      },
      "execution_count": null,
      "outputs": []
    },
    {
      "cell_type": "markdown",
      "source": [
        "## Define functions to display image and mask component layers -> Sentinel-2 cloud probability"
      ],
      "metadata": {
        "id": "N1hG1u_AUg46"
      }
    },
    {
      "cell_type": "code",
      "source": [
        "# Import the folium library.\n",
        "import folium\n",
        "\n",
        "# Define a method for displaying Earth Engine image tiles to a folium map.\n",
        "def add_ee_layer(self, ee_image_object, vis_params, name, show=True, opacity=1, min_zoom=0):\n",
        "    map_id_dict = ee.Image(ee_image_object).getMapId(vis_params)\n",
        "    folium.raster_layers.TileLayer(\n",
        "        tiles=map_id_dict['tile_fetcher'].url_format,\n",
        "        attr='Map Data &copy; <a href=\"https://earthengine.google.com/\">Google Earth Engine</a>',\n",
        "        name=name,\n",
        "        show=show,\n",
        "        opacity=opacity,\n",
        "        min_zoom=min_zoom,\n",
        "        overlay=True,\n",
        "        control=True\n",
        "        ).add_to(self)\n",
        "\n",
        "# Add the Earth Engine layer method to folium.\n",
        "folium.Map.add_ee_layer = add_ee_layer"
      ],
      "metadata": {
        "id": "FrsGNaYlUQjj"
      },
      "execution_count": null,
      "outputs": []
    },
    {
      "cell_type": "markdown",
      "source": [
        "Define a function to display all of the cloud and cloud shadow components to an interactive Folium map. The input is an image collection where each image is the result of the add_cld_shdw_mask function defined previously."
      ],
      "metadata": {
        "id": "gNT0juapUyhs"
      }
    },
    {
      "cell_type": "code",
      "source": [
        "def display_cloud_layers(col):\n",
        "    # Mosaic the image collection.\n",
        "    img = col.mosaic()\n",
        "\n",
        "    # Subset layers and prepare them for display.\n",
        "    clouds = img.select('clouds').selfMask()\n",
        "    shadows = img.select('shadows').selfMask()\n",
        "    dark_pixels = img.select('dark_pixels').selfMask()\n",
        "    probability = img.select('probability')\n",
        "    cloudmask = img.select('cloudmask').selfMask()\n",
        "    cloud_transform = img.select('cloud_transform')\n",
        "\n",
        "    # Create a folium map object.\n",
        "    center = AOI.centroid(10).coordinates().reverse().getInfo()\n",
        "    m = folium.Map(location=center, zoom_start=12)\n",
        "\n",
        "    # Add layers to the folium map.\n",
        "    m.add_ee_layer(img,\n",
        "                   {'bands': ['B4', 'B3', 'B2'], 'min': 0, 'max': 2500, 'gamma': 1.1},\n",
        "                   'S2 image', True, 1, 9)\n",
        "    m.add_ee_layer(probability,\n",
        "                   {'min': 0, 'max': 100},\n",
        "                   'probability (cloud)', False, 1, 9)\n",
        "    m.add_ee_layer(clouds,\n",
        "                   {'palette': 'e056fd'},\n",
        "                   'clouds', False, 1, 9)\n",
        "    m.add_ee_layer(cloud_transform,\n",
        "                   {'min': 0, 'max': 1, 'palette': ['white', 'black']},\n",
        "                   'cloud_transform', False, 1, 9)\n",
        "    m.add_ee_layer(dark_pixels,\n",
        "                   {'palette': 'orange'},\n",
        "                   'dark_pixels', False, 1, 9)\n",
        "    m.add_ee_layer(shadows, {'palette': 'yellow'},\n",
        "                   'shadows', False, 1, 9)\n",
        "    m.add_ee_layer(cloudmask, {'palette': '#fc0fc0'},\n",
        "                   'cloudmask', True, 0.5, 9)\n",
        "\n",
        "    # Add a layer control panel to the map.\n",
        "    m.add_child(folium.LayerControl())\n",
        "\n",
        "    # Display the map.\n",
        "    display(m)"
      ],
      "metadata": {
        "id": "sGw_pGJJUpts"
      },
      "execution_count": null,
      "outputs": []
    },
    {
      "cell_type": "markdown",
      "source": [
        "##### Display mask component layers"
      ],
      "metadata": {
        "id": "qjr0kZBWU7bI"
      }
    },
    {
      "cell_type": "code",
      "source": [
        "s2_sr_cld_col_eval_disp = s2_sr_cld_col_eval.map(add_cld_shdw_mask)\n",
        "\n",
        "display_cloud_layers(s2_sr_cld_col_eval_disp)"
      ],
      "metadata": {
        "id": "9mgtVAZOU_iz"
      },
      "execution_count": null,
      "outputs": []
    },
    {
      "cell_type": "markdown",
      "source": [
        "##### Evaluate mask component layers"
      ],
      "metadata": {
        "id": "ZptbuYq0VWMS"
      }
    },
    {
      "cell_type": "markdown",
      "source": [
        "In the above map, use the layer control panel in the upper right corner to toggle layers on and off; layer names are the same as band names, for easy code referral. Note that the layers have a minimum zoom level of 9 to avoid resource issues that can occur when visualizing layers that depend on the ee.Image.reproject function (used during cloud shadow project and mask dilation).\n",
        "\n",
        "Try changing the above CLD_PRB_THRESH, NIR_DRK_THRESH, CLD_PRJ_DIST, and BUFFER input variables and rerunning the previous cell to see how the results change. Find a good set of values for a given overpass and then try the procedure with a new overpass with different cloud conditions (this S2 SR image browser app is handy for quickly identifying images and determining image collection filter criteria). Try to identify a set of parameter values that balances cloud/cloud shadow commission and omission error for a range of cloud types. In the next section, we'll use the values to actually apply the mask to generate a cloud-free composite for 2020."
      ],
      "metadata": {
        "id": "l66mA80PWgrh"
      }
    },
    {
      "cell_type": "markdown",
      "source": [
        "##### PROBLEM"
      ],
      "metadata": {
        "id": "cSIvYFCUEbfj"
      }
    },
    {
      "cell_type": "markdown",
      "source": [
        "Some mulching areas are detected as clouds."
      ],
      "metadata": {
        "id": "z-CcasRWEoro"
      }
    },
    {
      "cell_type": "markdown",
      "source": [
        "## Apply Cloud and Cloud Shadow Mask -> Sentinel-2 cloud probability"
      ],
      "metadata": {
        "id": "nH8DwJgFW-eM"
      }
    },
    {
      "cell_type": "markdown",
      "source": [
        "### Define collection filter and cloud mask parameters"
      ],
      "metadata": {
        "id": "Zvcpx51VXcyt"
      }
    },
    {
      "cell_type": "code",
      "source": [
        "AOI = ee.Geometry.Point(-37.40, -4.91)\n",
        "START_DATE = '2020-06-01'\n",
        "END_DATE = '2020-09-01'\n",
        "CLOUD_FILTER = 60\n",
        "CLD_PRB_THRESH = 40\n",
        "NIR_DRK_THRESH = 0.15\n",
        "CLD_PRJ_DIST = 2\n",
        "BUFFER = 100"
      ],
      "metadata": {
        "id": "6pHBA4-qXJz9"
      },
      "execution_count": null,
      "outputs": []
    },
    {
      "cell_type": "markdown",
      "source": [
        "### Build a Sentinel-2 collection"
      ],
      "metadata": {
        "id": "HrCBq3GhXlki"
      }
    },
    {
      "cell_type": "code",
      "source": [
        "s2_sr_cld_col = get_s2_sr_cld_col(AOI, START_DATE, END_DATE)"
      ],
      "metadata": {
        "id": "8czAkUHtZo62"
      },
      "execution_count": null,
      "outputs": []
    },
    {
      "cell_type": "markdown",
      "source": [
        "### Define cloud mask application function"
      ],
      "metadata": {
        "id": "SWlkGfYIZqxb"
      }
    },
    {
      "cell_type": "markdown",
      "source": [
        "Define a function to apply the cloud mask to each image in the collection."
      ],
      "metadata": {
        "id": "2T8MKGDrZxZX"
      }
    },
    {
      "cell_type": "code",
      "source": [
        "def apply_cld_shdw_mask(img):\n",
        "    # Subset the cloudmask band and invert it so clouds/shadow are 0, else 1.\n",
        "    not_cld_shdw = img.select('cloudmask').Not()\n",
        "\n",
        "    # Subset reflectance bands and update their masks, return the result.\n",
        "    return img.select('B.*').updateMask(not_cld_shdw)"
      ],
      "metadata": {
        "id": "k0AeBJ7OZ4nC"
      },
      "execution_count": null,
      "outputs": []
    },
    {
      "cell_type": "markdown",
      "source": [
        "### Process the collection"
      ],
      "metadata": {
        "id": "5I3jDD81Z6ip"
      }
    },
    {
      "cell_type": "markdown",
      "source": [
        "Add cloud and cloud shadow component bands to each image and then apply the mask to each image. Reduce the collection by median (in your application, you might consider using medoid reduction to build a composite from actual data values, instead of per-band statistics)."
      ],
      "metadata": {
        "id": "5DrTlQncZ-FN"
      }
    },
    {
      "cell_type": "code",
      "source": [
        "s2_sr_median = (s2_sr_cld_col.map(add_cld_shdw_mask)\n",
        "                             .map(apply_cld_shdw_mask)\n",
        "                             .median())"
      ],
      "metadata": {
        "id": "yj0sD1zxaBLv"
      },
      "execution_count": null,
      "outputs": []
    },
    {
      "cell_type": "markdown",
      "source": [
        "### Display the cloud-free composite\n",
        "\n"
      ],
      "metadata": {
        "id": "pAQd-Xy2aDI0"
      }
    },
    {
      "cell_type": "code",
      "source": [
        "# Create a folium map object.\n",
        "center = AOI.centroid(10).coordinates().reverse().getInfo()\n",
        "m = folium.Map(location=center, zoom_start=12)\n",
        "\n",
        "# Add layers to the folium map.\n",
        "m.add_ee_layer(s2_sr_median,\n",
        "                {'bands': ['B4', 'B3', 'B2'], 'min': 0, 'max': 2500, 'gamma': 1.1},\n",
        "                'S2 cloud-free mosaic', True, 1, 9)\n",
        "\n",
        "# Add a layer control panel to the map.\n",
        "m.add_child(folium.LayerControl())\n",
        "\n",
        "# Display the map.\n",
        "display(m)"
      ],
      "metadata": {
        "id": "DQfuahH2aKGH"
      },
      "execution_count": null,
      "outputs": []
    },
    {
      "cell_type": "markdown",
      "source": [
        "# Score+"
      ],
      "metadata": {
        "id": "hVqggs5FV9c_"
      }
    },
    {
      "cell_type": "markdown",
      "source": [
        "## Cloud Mask and Cloud Shadow Mask -> Cloud Score+ S2"
      ],
      "metadata": {
        "id": "5xWsQN4Keira"
      }
    },
    {
      "cell_type": "markdown",
      "source": [
        "### Define collection filters and cloud mask parameters"
      ],
      "metadata": {
        "id": "WxYeh1fDjnDO"
      }
    },
    {
      "cell_type": "code",
      "source": [
        "AOI = trainTest_aoi\n",
        "START_DATE = \"2023-02-01\"\n",
        "END_DATE = \"2023-04-20\"\n",
        "\n",
        "# The threshold for masking; values between 0.50 and 0.65 generally work well.\n",
        "# Higher values will remove thin clouds, haze & cirrus shadows.\n",
        "CLEAR_THRESHOLD = 0.60;\n",
        "\n",
        "CLOUD_FILTER = 60\n",
        "NIR_DRK_THRESH = 0.15\n",
        "CLD_PRJ_DIST = 1\n",
        "BUFFER = 50"
      ],
      "metadata": {
        "id": "fuIn5uObjrht"
      },
      "execution_count": null,
      "outputs": []
    },
    {
      "cell_type": "markdown",
      "source": [
        "### Build a Sentinel-2 image collection with Cloud Score+ S2\n",
        "\n",
        "\n",
        "\n"
      ],
      "metadata": {
        "id": "cep7JXFhgFfc"
      }
    },
    {
      "cell_type": "markdown",
      "source": [
        "In this Sentinel-2 image collection each image has a property called `s2cloudless2` whose value is the corresponding s2cloudless image. This cloudless image came from the [ Cloud Score+ S2_HARMONIZED V1](https://developers.google.com/earth-engine/datasets/catalog/GOOGLE_CLOUD_SCORE_PLUS_V1_S2_HARMONIZED) image collection that was merged with [ Harmonized Sentinel-2 MSI: MultiSpectral Instrument, Level-2A\n",
        "](https://developers.google.com/earth-engine/datasets/catalog/COPERNICUS_S2_SR_HARMONIZED)image collection."
      ],
      "metadata": {
        "id": "n9kImXL4g17S"
      }
    },
    {
      "cell_type": "code",
      "source": [
        "S2_COLLECTION_ID = \"COPERNICUS/S2_SR_HARMONIZED\"\n",
        "S2_CM_COLLECTION_ID = \"GOOGLE/CLOUD_SCORE_PLUS/V1/S2_HARMONIZED\"\n",
        "\n",
        "# Use 'cs' or 'cs_cdf', depending on your use case; see docs for guidance.\n",
        "QA_BAND = 'cs_cdf';\n",
        "\n",
        "def get_s2_sr_cld_col(aoi, start_date, end_date):\n",
        "    # Import and filter S2 SR.\n",
        "    s2_sr_col = (ee.ImageCollection(S2_COLLECTION_ID)\n",
        "        .filterBounds(aoi)\n",
        "        .filterDate(start_date, end_date)\n",
        "        .filter(ee.Filter.lte('CLOUDY_PIXEL_PERCENTAGE', CLOUD_FILTER)))\n",
        "\n",
        "    # Import and filter s2cloudless.\n",
        "    # Cloud Score+ image collection. Note Cloud Score+ is produced from Sentinel-2\n",
        "    # Level 1C data and can be applied to either L1C or L2A collections.\n",
        "    csplus_col = (ee.ImageCollection(S2_CM_COLLECTION_ID)\n",
        "        .filterBounds(aoi)\n",
        "        .filterDate(start_date, end_date))\n",
        "\n",
        "    # Join the filtered s2cloudless collection to the SR collection by the 'system:index' property.\n",
        "    return ee.ImageCollection(ee.Join.saveFirst('s2cloudless').apply(**{\n",
        "        'primary': s2_sr_col,\n",
        "        'secondary': csplus_col,\n",
        "        'condition': ee.Filter.equals(**{\n",
        "            'leftField': 'system:index',\n",
        "            'rightField': 'system:index'\n",
        "        })\n",
        "    }))"
      ],
      "metadata": {
        "id": "O3m19NXDgGN5"
      },
      "execution_count": null,
      "outputs": []
    },
    {
      "cell_type": "markdown",
      "source": [
        "Define a variable for the Sentinel-2 collection with the `s2cloudless2` property."
      ],
      "metadata": {
        "id": "UUMeyMtL5-YK"
      }
    },
    {
      "cell_type": "code",
      "source": [
        "s2_sr_cld_col_eval = get_s2_sr_cld_col(AOI, START_DATE, END_DATE)"
      ],
      "metadata": {
        "id": "NiIJJfpekiAs"
      },
      "execution_count": null,
      "outputs": []
    },
    {
      "cell_type": "code",
      "source": [
        "image = s2_sr_cld_col_eval"
      ],
      "metadata": {
        "id": "MyozMJxJmMiJ"
      },
      "execution_count": null,
      "outputs": []
    },
    {
      "cell_type": "markdown",
      "source": [
        "### Define Cloud Mask component functions"
      ],
      "metadata": {
        "id": "8VJqK3rLjD1V"
      }
    },
    {
      "cell_type": "markdown",
      "source": [
        "#### Cloud components"
      ],
      "metadata": {
        "id": "fFQ9ZYxvka6W"
      }
    },
    {
      "cell_type": "markdown",
      "source": [
        "added `clouds` property to the image"
      ],
      "metadata": {
        "id": "QWJg9EhZEzhU"
      }
    },
    {
      "cell_type": "code",
      "source": [
        "def add_cloud_bands(img):\n",
        "    # Get s2cloudless image, subset the cs_cdf band.\n",
        "    score_plus = ee.Image(img.get('s2cloudless')).select(QA_BAND)\n",
        "\n",
        "    # Condition s2cloudless by the SCORE+ threshold value.\n",
        "    is_cloud = score_plus.gt(CLEAR_THRESHOLD).Not().rename('clouds')\n",
        "\n",
        "    # Add the cloud score+ layer and cloud mask as image bands.\n",
        "    return img.addBands(ee.Image([score_plus, is_cloud]))"
      ],
      "metadata": {
        "id": "6Fw49Aq1lkRq"
      },
      "execution_count": null,
      "outputs": []
    },
    {
      "cell_type": "markdown",
      "source": [
        "#### Cloud shadow components"
      ],
      "metadata": {
        "id": "mbdt8D37lme4"
      }
    },
    {
      "cell_type": "code",
      "source": [
        "def add_shadow_bands(img):\n",
        "    # Identify water pixels from the SCL band.\n",
        "    not_water = img.select('SCL').neq(6)\n",
        "\n",
        "    # Identify dark NIR pixels that are not water (potential cloud shadow pixels).\n",
        "    SR_BAND_SCALE = 1e4\n",
        "    dark_pixels = img.select('B8').lt(NIR_DRK_THRESH*SR_BAND_SCALE).multiply(not_water).rename('dark_pixels')\n",
        "\n",
        "    # Determine the direction to project cloud shadow from clouds (assumes UTM projection).\n",
        "    shadow_azimuth = ee.Number(90).subtract(ee.Number(img.get('MEAN_SOLAR_AZIMUTH_ANGLE')));\n",
        "\n",
        "    # Project shadows from clouds for the distance specified by the CLD_PRJ_DIST input.\n",
        "    cld_proj = (img.select('clouds').directionalDistanceTransform(shadow_azimuth, CLD_PRJ_DIST*10)\n",
        "        .reproject(**{'crs': img.select(0).projection(), 'scale': 100})\n",
        "        .select('distance')\n",
        "        .mask()\n",
        "        .rename('cloud_transform'))\n",
        "\n",
        "    # Identify the intersection of dark pixels with cloud shadow projection.\n",
        "    shadows = cld_proj.multiply(dark_pixels).rename('shadows')\n",
        "\n",
        "    # Add dark pixels, cloud projection, and identified shadows as image bands.\n",
        "    return img.addBands(ee.Image([dark_pixels, cld_proj, shadows]))\n"
      ],
      "metadata": {
        "id": "GQ-DFzFelpaP"
      },
      "execution_count": null,
      "outputs": []
    },
    {
      "cell_type": "markdown",
      "source": [
        "#### Final cloud-shadow mask"
      ],
      "metadata": {
        "id": "zE75pcwOl2jD"
      }
    },
    {
      "cell_type": "code",
      "source": [
        "def add_cld_shdw_mask(img):\n",
        "    # Add cloud component bands.\n",
        "    img_cloud = add_cloud_bands(img)\n",
        "\n",
        "    # Add cloud shadow component bands.\n",
        "    img_cloud_shadow = add_shadow_bands(img_cloud)\n",
        "\n",
        "    # Combine cloud and shadow mask, set cloud and shadow as value 1, else 0.\n",
        "    is_cld_shdw = img_cloud_shadow.select('clouds').add(img_cloud_shadow.select('shadows')).gt(0)\n",
        "\n",
        "    # Remove small cloud-shadow patches and dilate remaining pixels by BUFFER input.\n",
        "    # 20 m scale is for speed, and assumes clouds don't require 10 m precision.\n",
        "    is_cld_shdw = (is_cld_shdw.focalMin(2).focalMax(BUFFER*2/20)\n",
        "        .reproject(**{'crs': img.select([0]).projection(), 'scale': 20})\n",
        "        .rename('cloudmask'))\n",
        "\n",
        "    # Add the final cloud-shadow mask to the image.\n",
        "    return img_cloud_shadow.addBands(is_cld_shdw)\n"
      ],
      "metadata": {
        "id": "qjB4_4ARl5Y3"
      },
      "execution_count": null,
      "outputs": []
    },
    {
      "cell_type": "markdown",
      "source": [
        "#### Subset the cloudmask band"
      ],
      "metadata": {
        "id": "HYO3todytt_L"
      }
    },
    {
      "cell_type": "code",
      "source": [
        "def apply_cld_shdw_mask(img):\n",
        "    # Subset the cloudmask band and invert it so clouds/shadow are 0, else 1.\n",
        "    not_cld_shdw = img.select('cloudmask').Not()\n",
        "\n",
        "    # Subset reflectance bands and update their masks, return the result.\n",
        "    return img.select('B.*').updateMask(not_cld_shdw)"
      ],
      "metadata": {
        "id": "WrfYmIy1l_Fm"
      },
      "execution_count": null,
      "outputs": []
    },
    {
      "cell_type": "markdown",
      "source": [
        "## Define functions to display image and mask component layers -> Cloud Score+ S2"
      ],
      "metadata": {
        "id": "V17hgKdFtaUy"
      }
    },
    {
      "cell_type": "code",
      "source": [
        "# Import the folium library.\n",
        "import folium\n",
        "\n",
        "# Define a method for displaying Earth Engine image tiles to a folium map.\n",
        "def add_ee_layer(self, ee_image_object, vis_params, name, show=True, opacity=1, min_zoom=0):\n",
        "    map_id_dict = ee.Image(ee_image_object).getMapId(vis_params)\n",
        "    folium.raster_layers.TileLayer(\n",
        "        tiles=map_id_dict['tile_fetcher'].url_format,\n",
        "        attr='Map Data &copy; <a href=\"https://earthengine.google.com/\">Google Earth Engine</a>',\n",
        "        name=name,\n",
        "        show=show,\n",
        "        opacity=opacity,\n",
        "        min_zoom=min_zoom,\n",
        "        overlay=True,\n",
        "        control=True\n",
        "        ).add_to(self)\n",
        "\n",
        "# Add the Earth Engine layer method to folium.\n",
        "folium.Map.add_ee_layer = add_ee_layer"
      ],
      "metadata": {
        "id": "Hz9kVU6DtaUz"
      },
      "execution_count": null,
      "outputs": []
    },
    {
      "cell_type": "markdown",
      "source": [
        "Define a function to display all of the cloud and cloud shadow components to an interactive Folium map. The input is an image collection where each image is the result of the add_cld_shdw_mask function defined previously."
      ],
      "metadata": {
        "id": "S1w3eu-qtaU1"
      }
    },
    {
      "cell_type": "code",
      "source": [
        "def display_cloud_layers(col):\n",
        "    # Mosaic the image collection.\n",
        "    img = col.mosaic()\n",
        "\n",
        "    # Subset layers and prepare them for display.\n",
        "    clouds = img.select('clouds').selfMask()\n",
        "    shadows = img.select('shadows').selfMask()\n",
        "    dark_pixels = img.select('dark_pixels').selfMask()\n",
        "    cs_cdf = img.select(QA_BAND)\n",
        "    cloudmask = img.select('cloudmask').selfMask()\n",
        "\n",
        "    # Create a folium map object.\n",
        "    center = AOI.centroid(10).coordinates().reverse().getInfo()\n",
        "    m = folium.Map(location=center, zoom_start=12)\n",
        "\n",
        "    # Add layers to the folium map.\n",
        "    m.add_ee_layer(img,\n",
        "                   {'bands': ['B4', 'B3', 'B2'], 'min': 0, 'max': 2500, 'gamma': 1.1},\n",
        "                   'S2 image', True, 1, 9)\n",
        "    m.add_ee_layer(clouds,\n",
        "                   {'palette': 'e056fd'},\n",
        "                   'clouds', False, 1, 9)\n",
        "    m.add_ee_layer(dark_pixels,\n",
        "                   {'palette': 'orange'},\n",
        "                   'dark_pixels', False, 1, 9)\n",
        "    m.add_ee_layer(shadows, {'palette': 'yellow'},\n",
        "                   'shadows', False, 1, 9)\n",
        "    m.add_ee_layer(cloudmask, {'palette': '#fc0fc0'},\n",
        "                   'cloudmask', True, 0.5, 9)\n",
        "\n",
        "    # Add a layer control panel to the map.\n",
        "    m.add_child(folium.LayerControl())\n",
        "\n",
        "    # Display the map.\n",
        "    display(m)"
      ],
      "metadata": {
        "id": "6GXLOG2OtaU2"
      },
      "execution_count": null,
      "outputs": []
    },
    {
      "cell_type": "markdown",
      "source": [
        "##### Display mask component layers"
      ],
      "metadata": {
        "id": "0Y3pQL9otaU2"
      }
    },
    {
      "cell_type": "code",
      "source": [
        "s2_sr_cld_col_eval_disp = s2_sr_cld_col_eval.map(add_cld_shdw_mask)\n",
        "\n",
        "display_cloud_layers(s2_sr_cld_col_eval_disp)"
      ],
      "metadata": {
        "id": "x-53P75KtaU2"
      },
      "execution_count": null,
      "outputs": []
    },
    {
      "cell_type": "markdown",
      "source": [],
      "metadata": {
        "id": "scGO_Er1McUO"
      }
    },
    {
      "cell_type": "markdown",
      "source": [
        "## Apply Cloud and Cloud Shadow Mask -> Cloud Score+ S2"
      ],
      "metadata": {
        "id": "0dkDNleJ355B"
      }
    },
    {
      "cell_type": "markdown",
      "source": [
        "### Define collection filter and cloud mask parameters"
      ],
      "metadata": {
        "id": "mofKFxj0355B"
      }
    },
    {
      "cell_type": "code",
      "source": [
        "AOI = trainTest_aoi\n",
        "START_DATE = \"2023-02-01\"\n",
        "END_DATE = \"2023-04-20\"\n",
        "\n",
        "# The threshold for masking; values between 0.50 and 0.65 generally work well.\n",
        "# Higher values will remove thin clouds, haze & cirrus shadows.\n",
        "CLEAR_THRESHOLD = 0.60;\n",
        "\n",
        "\n",
        "CLOUD_FILTER = 60\n",
        "NIR_DRK_THRESH = 0.15\n",
        "CLD_PRJ_DIST = 1\n",
        "BUFFER = 50"
      ],
      "metadata": {
        "id": "MZ2w3Db8355C"
      },
      "execution_count": null,
      "outputs": []
    },
    {
      "cell_type": "markdown",
      "source": [
        "### Build a Sentinel-2 collection"
      ],
      "metadata": {
        "id": "Fw9N9hQT355D"
      }
    },
    {
      "cell_type": "code",
      "source": [
        "s2_sr_cld_col = get_s2_sr_cld_col(AOI, START_DATE, END_DATE)"
      ],
      "metadata": {
        "id": "x5XWouO-355D"
      },
      "execution_count": null,
      "outputs": []
    },
    {
      "cell_type": "markdown",
      "source": [
        "### Define cloud mask application function"
      ],
      "metadata": {
        "id": "SshD-Ff9355E"
      }
    },
    {
      "cell_type": "markdown",
      "source": [
        "Define a function to apply the cloud mask to each image in the collection."
      ],
      "metadata": {
        "id": "dG52iJcX355E"
      }
    },
    {
      "cell_type": "code",
      "source": [
        "def apply_cld_shdw_mask(img):\n",
        "    # Subset the cloudmask band and invert it so clouds/shadow are 0, else 1.\n",
        "    not_cld_shdw = img.select('cloudmask').Not()\n",
        "\n",
        "    # Subset reflectance bands and update their masks, return the result.\n",
        "    return img.select('B.*').updateMask(not_cld_shdw)\n",
        "\n",
        "def add_cld_shdw_mask(img):\n",
        "    # Add cloud component bands.\n",
        "    img_cloud = add_cloud_bands(img)\n",
        "\n",
        "    # Add cloud shadow component bands.\n",
        "    img_cloud_shadow = add_shadow_bands(img_cloud)\n",
        "\n",
        "    # Combine cloud and shadow mask, set cloud and shadow as value 1, else 0.\n",
        "    is_cld_shdw = img_cloud_shadow.select('clouds').add(img_cloud_shadow.select('shadows')).gt(0)\n",
        "\n",
        "    # Remove small cloud-shadow patches and dilate remaining pixels by BUFFER input.\n",
        "    # 20 m scale is for speed, and assumes clouds don't require 10 m precision.\n",
        "    is_cld_shdw = (is_cld_shdw.focalMin(2).focalMax(BUFFER*2/20)\n",
        "        .reproject(**{'crs': img.select([0]).projection(), 'scale': 20})\n",
        "        .rename('cloudmask'))\n",
        "\n",
        "    # Add the final cloud-shadow mask to the image.\n",
        "    return img_cloud_shadow.addBands(is_cld_shdw)"
      ],
      "metadata": {
        "id": "RKZkXZFY355E"
      },
      "execution_count": null,
      "outputs": []
    },
    {
      "cell_type": "markdown",
      "source": [
        "### Process the collection"
      ],
      "metadata": {
        "id": "Wjp3VlgT355F"
      }
    },
    {
      "cell_type": "markdown",
      "source": [
        "Add cloud and cloud shadow component bands to each image and then apply the mask to each image. Reduce the collection by median (in your application, you might consider using medoid reduction to build a composite from actual data values, instead of per-band statistics)."
      ],
      "metadata": {
        "id": "SzjkhVY-355F"
      }
    },
    {
      "cell_type": "markdown",
      "source": [
        "ALERT! This is for test purposes, the final result is going to use Machine Learning or Deep Learning models to restore the missing pieces in the composite image."
      ],
      "metadata": {
        "id": "tpIHCKhoUtEA"
      }
    },
    {
      "cell_type": "code",
      "source": [
        "s2_sr_median = (s2_sr_cld_col.map(add_cld_shdw_mask)\n",
        "                             .map(apply_cld_shdw_mask)\n",
        "                             .median())"
      ],
      "metadata": {
        "id": "RS9GKAtW355F"
      },
      "execution_count": null,
      "outputs": []
    },
    {
      "cell_type": "markdown",
      "source": [
        "### Display Clouds"
      ],
      "metadata": {
        "id": "yZ9zOtxY2Czx"
      }
    },
    {
      "cell_type": "code",
      "source": [
        "def display_clouds(col):\n",
        "    # Mosaic the image collection.\n",
        "    img = col.mosaic()\n",
        "\n",
        "    # Subset layers and prepare them for display.\n",
        "    clouds = img.select('clouds').selfMask()\n",
        "    shadows = img.select('shadows').selfMask()\n",
        "    dark_pixels = img.select('dark_pixels').selfMask()\n",
        "    cloudmask = img.select('cloudmask').selfMask()\n",
        "\n",
        "    # Create a folium map object.\n",
        "    center = AOI.centroid(10).coordinates().reverse().getInfo()\n",
        "    m = folium.Map(location=center, zoom_start=12)\n",
        "\n",
        "    # Add layers to the folium map.\n",
        "    m.add_ee_layer(img,\n",
        "                   {'bands': ['B4', 'B3', 'B2'], 'min': 0, 'max': 2500, 'gamma': 1.1},\n",
        "                   'S2 image', True, 1, 9)\n",
        "    m.add_ee_layer(clouds,\n",
        "                   {'palette': 'black'},\n",
        "                   'clouds', True, 1, 9)\n",
        "    m.add_ee_layer(dark_pixels,\n",
        "                   {'palette': 'orange'},\n",
        "                   'dark_pixels', False, 1, 9)\n",
        "    m.add_ee_layer(shadows, {'palette': 'yellow'},\n",
        "                   'shadows', False, 1, 9)\n",
        "    m.add_ee_layer(cloudmask, {'palette': 'purple'},\n",
        "                   'cloudmask', False, 0.5, 9)\n",
        "    m.add_ee_layer(s2_sr_median,\n",
        "                {'bands': ['B4', 'B3', 'B2'], 'min': 0, 'max': 2500, 'gamma': 1.1},\n",
        "                'S2 cloud-free mosaic', False, 1, 9)\n",
        "\n",
        "    # Add a layer control panel to the map.\n",
        "    m.add_child(folium.LayerControl())\n",
        "\n",
        "    # Display the map.\n",
        "    display(m)"
      ],
      "metadata": {
        "id": "HFymocvlzUDn"
      },
      "execution_count": null,
      "outputs": []
    },
    {
      "cell_type": "code",
      "source": [
        "s2_sr_cld_col_eval_disp = s2_sr_cld_col_eval.map(add_cld_shdw_mask)\n",
        "\n",
        "display_clouds(s2_sr_cld_col_eval_disp)"
      ],
      "metadata": {
        "id": "XpMnkq8EzYb2"
      },
      "execution_count": null,
      "outputs": []
    },
    {
      "cell_type": "markdown",
      "source": [
        "Map projections try to portray the surface of the earth, or a portion of the earth, on a flat piece of paper or computer screen. In layman’s term, map projections try to transform the earth from its spherical shape (3D) to a planar shape (2D).\n",
        "\n",
        "A coordinate reference system (CRS) then defines how the two-dimensional, projected map in your GIS relates to real places on the earth. The decision of which map projection and CRS to use depends on the regional extent of the area you want to work in, on the analysis you want to do, and often on the availability of data."
      ],
      "metadata": {
        "id": "84tHrIvN1JdY"
      }
    },
    {
      "cell_type": "code",
      "source": [
        "image = s2_sr_cld_col_eval_disp.mosaic()\n",
        "image"
      ],
      "metadata": {
        "id": "Leujepqd0VhS"
      },
      "execution_count": null,
      "outputs": []
    },
    {
      "cell_type": "markdown",
      "source": [
        "EPSG:4326, also known as the WGS84 projection (because it's based on WGS84's ellipsoid), is a coordinate system used in Google Earth and GSP systems. It represents Earth as a three-dimensional ellipsoid. As it's not using the projection, it doesn't have the distortion issues of the Web Mercator."
      ],
      "metadata": {
        "id": "uXiRF8_y1W1V"
      }
    },
    {
      "cell_type": "markdown",
      "source": [
        "# Deciding which cloud mask to use"
      ],
      "metadata": {
        "id": "Jx8XBhLjCq-E"
      }
    },
    {
      "cell_type": "markdown",
      "source": [
        "The [Cloud Score+ S2_HARMONIZED V1](https://developers.google.com/earth-engine/datasets/catalog/GOOGLE_CLOUD_SCORE_PLUS_V1_S2_HARMONIZED) cloud mask demonstrates superior performance compared to the [Sentinel-2: Cloud Probability](https://developers.google.com/earth-engine/datasets/catalog/COPERNICUS_S2_CLOUD_PROBABILITY) cloud mask for satellite imagery analysis. However, optimizing the threshold for the Sentinel-2 Cloud Probability mask could potentially enhance its results, highlighting the importance of fine-tuning parameters in image processing algorithms.\n",
        "\n",
        "Adding to it, almost none of the mulching areas were detect as clouds while using the Cloud Score+ mask."
      ],
      "metadata": {
        "id": "IMTvdRZzCtIz"
      }
    },
    {
      "cell_type": "markdown",
      "source": [
        "# Sampling"
      ],
      "metadata": {
        "id": "eSyxvRBXWPw1"
      }
    },
    {
      "cell_type": "markdown",
      "source": [
        "## Join Cloud Indexes on the cloud free composite image"
      ],
      "metadata": {
        "id": "G0BsLPYXvc80"
      }
    },
    {
      "cell_type": "code",
      "source": [],
      "metadata": {
        "id": "CdIZhGxZvh-c"
      },
      "execution_count": null,
      "outputs": []
    },
    {
      "cell_type": "markdown",
      "source": [
        "## Band Selection"
      ],
      "metadata": {
        "id": "eCHhEY335Bpq"
      }
    },
    {
      "cell_type": "code",
      "source": [],
      "metadata": {
        "id": "UHINjzuE5DBR"
      },
      "execution_count": null,
      "outputs": []
    },
    {
      "cell_type": "markdown",
      "source": [
        "## Export Preprocessed composite image"
      ],
      "metadata": {
        "id": "4rMpah605HAS"
      }
    },
    {
      "cell_type": "code",
      "source": [],
      "metadata": {
        "id": "XkaH-15h5I_h"
      },
      "execution_count": null,
      "outputs": []
    }
  ]
}